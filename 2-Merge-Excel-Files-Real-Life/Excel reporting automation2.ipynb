{
 "cells": [
  {
   "cell_type": "code",
   "execution_count": 1,
   "id": "9a0c3dca-dae0-4d00-b25a-215b631bd1fd",
   "metadata": {},
   "outputs": [],
   "source": [
    "from pathlib import Path\n",
    "import pandas as pd\n",
    "import xlwings as xw"
   ]
  },
  {
   "cell_type": "code",
   "execution_count": 2,
   "id": "893879e1-fba1-415c-bd1e-bc871e390cf4",
   "metadata": {},
   "outputs": [],
   "source": [
    "#Locate examples files\n",
    "INPUT_DIR = Path(r\"C:\\Users\\yohal\\OneDrive\\Programación\\Python\\proyectos\\Excel_reporting_automation\\2-Merge-Excel-Files-Real-Life\\INPUT\")\n",
    "OUTPUT_DIR = Path(r\"C:\\Users\\yohal\\OneDrive\\Programación\\Python\\proyectos\\Excel_reporting_automation\\2-Merge-Excel-Files-Real-Life\")"
   ]
  },
  {
   "cell_type": "code",
   "execution_count": 4,
   "id": "1a716486-d1ba-46e5-99af-f5bafc40a3b1",
   "metadata": {},
   "outputs": [],
   "source": [
    "#Create an empty workbook. This wb will be our final output\n",
    "summary_wb = xw.Book()\n",
    "summary_sht = summary_wb.sheets[0]\n",
    "summary_sht.name = \"Summary\""
   ]
  },
  {
   "cell_type": "code",
   "execution_count": 5,
   "id": "66c56e05-6e90-4d92-af77-1b7d15463695",
   "metadata": {},
   "outputs": [],
   "source": [
    "#Iterate over each file in directory. Copy cell range and past it into summary workbook (keep formatting & formulas)\n",
    "for file in INPUT_DIR.iterdir():\n",
    "    if file.suffix == \".xlsx\":\n",
    "        wb = xw.Book(file)\n",
    "        wb.app.display_alerts = False\n",
    "        #wb.app.visible = False\n",
    "        sht = wb.sheets(\"Overview\")\n",
    "        values = sht.range(\"B5\").expand().copy()\n",
    "        dest_last_row = summary_sht.range(\"A1\").expand().last_cell.row + 1\n",
    "        summary_sht.range(f\"A{dest_last_row}\").paste()\n",
    "        wb.close()\n"
   ]
  },
  {
   "cell_type": "code",
   "execution_count": 6,
   "id": "b3beb469-c22e-49bc-8b7d-43fa0e67992b",
   "metadata": {},
   "outputs": [],
   "source": [
    "# Insert & style header of our summary workbook\n",
    "header = [\n",
    "    \"Segment\",\n",
    "    \"Country\",\n",
    "    \"Product\",\n",
    "    \"Discount Band\",\n",
    "    \"Units Sold\",\n",
    "    \"Sale Price\",\n",
    "    \"Gross Sales\",\n",
    "    \"Discounts\",\n",
    "    \"Sales\",\n",
    "    \"COGS\",\n",
    "    \"Profit\",\n",
    "]\n",
    "header_row = summary_sht.range(\"A1:K1\")\n",
    "header_row.value = header\n",
    "header_row.font.bold = True\n",
    "header_row.font.color = (255, 255, 255)\n",
    "header_row.color = (119, 136, 153)"
   ]
  },
  {
   "cell_type": "code",
   "execution_count": 7,
   "id": "397fb320-af5c-430b-9653-f5a0aad82069",
   "metadata": {},
   "outputs": [
    {
     "data": {
      "text/html": [
       "<div>\n",
       "<style scoped>\n",
       "    .dataframe tbody tr th:only-of-type {\n",
       "        vertical-align: middle;\n",
       "    }\n",
       "\n",
       "    .dataframe tbody tr th {\n",
       "        vertical-align: top;\n",
       "    }\n",
       "\n",
       "    .dataframe thead th {\n",
       "        text-align: right;\n",
       "    }\n",
       "</style>\n",
       "<table border=\"1\" class=\"dataframe\">\n",
       "  <thead>\n",
       "    <tr style=\"text-align: right;\">\n",
       "      <th></th>\n",
       "      <th>Sales</th>\n",
       "    </tr>\n",
       "    <tr>\n",
       "      <th>Country</th>\n",
       "      <th></th>\n",
       "    </tr>\n",
       "  </thead>\n",
       "  <tbody>\n",
       "    <tr>\n",
       "      <th>Canada</th>\n",
       "      <td>1.971177e+07</td>\n",
       "    </tr>\n",
       "    <tr>\n",
       "      <th>France</th>\n",
       "      <td>1.922138e+07</td>\n",
       "    </tr>\n",
       "    <tr>\n",
       "      <th>Germany</th>\n",
       "      <td>1.727761e+07</td>\n",
       "    </tr>\n",
       "    <tr>\n",
       "      <th>Japan</th>\n",
       "      <td>1.619493e+07</td>\n",
       "    </tr>\n",
       "    <tr>\n",
       "      <th>United States of America</th>\n",
       "      <td>1.990542e+07</td>\n",
       "    </tr>\n",
       "  </tbody>\n",
       "</table>\n",
       "</div>"
      ],
      "text/plain": [
       "                                 Sales\n",
       "Country                               \n",
       "Canada                    1.971177e+07\n",
       "France                    1.922138e+07\n",
       "Germany                   1.727761e+07\n",
       "Japan                     1.619493e+07\n",
       "United States of America  1.990542e+07"
      ]
     },
     "execution_count": 7,
     "metadata": {},
     "output_type": "execute_result"
    }
   ],
   "source": [
    "# Use pandas to perform data calculations\n",
    "df = summary_sht.range(\"A1\").options(pd.DataFrame, expand=\"table\").value\n",
    "data_by_country = df.groupby(by=\"Country\").sum()[[\"Sales\"]]\n",
    "data_by_country"
   ]
  },
  {
   "cell_type": "code",
   "execution_count": 8,
   "id": "5d7bf3ce-bf7b-455b-879e-30c4a68c53de",
   "metadata": {},
   "outputs": [],
   "source": [
    "# Insert grouped dataframe into the summary workbook\n",
    "summary_sht.range(\"M1\").value = data_by_country"
   ]
  },
  {
   "cell_type": "code",
   "execution_count": 9,
   "id": "005ba5d9-abe8-4e08-ae11-4179f4529111",
   "metadata": {},
   "outputs": [],
   "source": [
    "# Insert Excel chart from data_by_country\n",
    "\n",
    "chart = summary_sht.charts.add(\n",
    "    left=summary_sht.range(\"M8\").left, \n",
    "    top=summary_sht.range(\"M8\").top,\n",
    "    width=400,\n",
    "    height=200,\n",
    ")\n",
    "chart.set_source_data(summary_sht.range(\"M1\").expand())\n",
    "chart.chart_type = \"bar_stacked\"\n",
    "\n"
   ]
  },
  {
   "cell_type": "code",
   "execution_count": 10,
   "id": "770d3b57-92a7-4a89-ba31-ded36083d76a",
   "metadata": {},
   "outputs": [
    {
     "data": {
      "text/plain": [
       "<Picture 'Sales' in <Sheet [Libro1]Summary>>"
      ]
     },
     "execution_count": 10,
     "metadata": {},
     "output_type": "execute_result"
    }
   ],
   "source": [
    "# Insert PANDAS chart\n",
    "ax = data_by_country.sort_values(by=\"Sales\").plot(kind=\"barh\")\n",
    "fig = ax.get_figure()\n",
    "summary_sht.pictures.add(\n",
    "    fig,\n",
    "    name=\"Sales\",\n",
    "    update=True,\n",
    "    left=summary_sht.range(\"M23\").left,\n",
    "    top=summary_sht.range(\"M23\").top,\n",
    "    width=400,\n",
    "    height=200,\n",
    ")"
   ]
  },
  {
   "cell_type": "code",
   "execution_count": 11,
   "id": "dfdbd7d6-8764-44a6-8b0b-00fb6bee505e",
   "metadata": {},
   "outputs": [],
   "source": [
    "# Clean up workbook, save workbook & quit Excel instance (if it is the only wb open)\n",
    "summary_sht.autofit()\n",
    "summary_wb.save(OUTPUT_DIR / \"summary.xlsx\")\n",
    "if len(summary_wb.app.books) == 1:\n",
    "    summary_wb.app.quit()\n",
    "else:\n",
    "    summary_wb.close()"
   ]
  },
  {
   "cell_type": "code",
   "execution_count": null,
   "id": "cbce86e6-bb77-41a8-9758-ed22878e5e31",
   "metadata": {},
   "outputs": [],
   "source": []
  }
 ],
 "metadata": {
  "kernelspec": {
   "display_name": "Python 3 (ipykernel)",
   "language": "python",
   "name": "python3"
  },
  "language_info": {
   "codemirror_mode": {
    "name": "ipython",
    "version": 3
   },
   "file_extension": ".py",
   "mimetype": "text/x-python",
   "name": "python",
   "nbconvert_exporter": "python",
   "pygments_lexer": "ipython3",
   "version": "3.13.1"
  }
 },
 "nbformat": 4,
 "nbformat_minor": 5
}
